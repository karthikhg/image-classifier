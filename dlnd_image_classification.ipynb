{
 "cells": [
  {
   "cell_type": "markdown",
   "metadata": {
    "collapsed": true
   },
   "source": [
    "# Image Classification\n",
    "In this project, you'll classify images from the [CIFAR-10 dataset](https://www.cs.toronto.edu/~kriz/cifar.html).  The dataset consists of airplanes, dogs, cats, and other objects. You'll preprocess the images, then train a convolutional neural network on all the samples. The images need to be normalized and the labels need to be one-hot encoded.  You'll get to apply what you learned and build a convolutional, max pooling, dropout, and fully connected layers.  At the end, you'll get to see your neural network's predictions on the sample images.\n",
    "## Get the Data\n",
    "Run the following cell to download the [CIFAR-10 dataset for python](https://www.cs.toronto.edu/~kriz/cifar-10-python.tar.gz)."
   ]
  },
  {
   "cell_type": "code",
   "execution_count": 3,
   "metadata": {},
   "outputs": [
    {
     "name": "stdout",
     "output_type": "stream",
     "text": [
      "All files found!\n"
     ]
    }
   ],
   "source": [
    "\"\"\"\n",
    "DON'T MODIFY ANYTHING IN THIS CELL THAT IS BELOW THIS LINE\n",
    "\"\"\"\n",
    "from urllib.request import urlretrieve\n",
    "from os.path import isfile, isdir\n",
    "from tqdm import tqdm\n",
    "import problem_unittests as tests\n",
    "import tarfile\n",
    "\n",
    "cifar10_dataset_folder_path = 'cifar-10-batches-py'\n",
    "\n",
    "# Use Floyd's cifar-10 dataset if present\n",
    "floyd_cifar10_location = '/input/cifar-10/python.tar.gz'\n",
    "if isfile(floyd_cifar10_location):\n",
    "    tar_gz_path = floyd_cifar10_location\n",
    "else:\n",
    "    tar_gz_path = 'cifar-10-python.tar.gz'\n",
    "\n",
    "class DLProgress(tqdm):\n",
    "    last_block = 0\n",
    "\n",
    "    def hook(self, block_num=1, block_size=1, total_size=None):\n",
    "        self.total = total_size\n",
    "        self.update((block_num - self.last_block) * block_size)\n",
    "        self.last_block = block_num\n",
    "\n",
    "if not isfile(tar_gz_path):\n",
    "    with DLProgress(unit='B', unit_scale=True, miniters=1, desc='CIFAR-10 Dataset') as pbar:\n",
    "        urlretrieve(\n",
    "            'https://www.cs.toronto.edu/~kriz/cifar-10-python.tar.gz',\n",
    "            tar_gz_path,\n",
    "            pbar.hook)\n",
    "\n",
    "if not isdir(cifar10_dataset_folder_path):\n",
    "    with tarfile.open(tar_gz_path) as tar:\n",
    "        tar.extractall()\n",
    "        tar.close()\n",
    "\n",
    "\n",
    "tests.test_folder_path(cifar10_dataset_folder_path)"
   ]
  },
  {
   "cell_type": "markdown",
   "metadata": {},
   "source": [
    "## Explore the Data\n",
    "The dataset is broken into batches to prevent your machine from running out of memory.  The CIFAR-10 dataset consists of 5 batches, named `data_batch_1`, `data_batch_2`, etc.. Each batch contains the labels and images that are one of the following:\n",
    "* airplane\n",
    "* automobile\n",
    "* bird\n",
    "* cat\n",
    "* deer\n",
    "* dog\n",
    "* frog\n",
    "* horse\n",
    "* ship\n",
    "* truck\n",
    "\n",
    "Understanding a dataset is part of making predictions on the data.  Play around with the code cell below by changing the `batch_id` and `sample_id`. The `batch_id` is the id for a batch (1-5). The `sample_id` is the id for a image and label pair in the batch.\n",
    "\n",
    "Ask yourself \"What are all possible labels?\", \"What is the range of values for the image data?\", \"Are the labels in order or random?\".  Answers to questions like these will help you preprocess the data and end up with better predictions."
   ]
  },
  {
   "cell_type": "code",
   "execution_count": 5,
   "metadata": {},
   "outputs": [
    {
     "name": "stdout",
     "output_type": "stream",
     "text": [
      "\n",
      "Stats of batch 2:\n",
      "Samples: 10000\n",
      "Label Counts: {0: 984, 1: 1007, 2: 1010, 3: 995, 4: 1010, 5: 988, 6: 1008, 7: 1026, 8: 987, 9: 985}\n",
      "First 20 Labels: [1, 6, 6, 8, 8, 3, 4, 6, 0, 6, 0, 3, 6, 6, 5, 4, 8, 3, 2, 6]\n",
      "\n",
      "Example of Image 10:\n",
      "Image - Min Value: 4 Max Value: 231\n",
      "Image - Shape: (32, 32, 3)\n",
      "Label - Label Id: 0 Name: airplane\n"
     ]
    },
    {
     "data": {
      "image/png": "[encoded data removed]",
      "text/plain": [
       "<matplotlib.figure.Figure at 0x1182be2e8>"
      ]
     },
     "metadata": {
      "image/png": {
       "height": 250,
       "width": 253
      }
     },
     "output_type": "display_data"
    }
   ],
   "source": [
    "%matplotlib inline\n",
    "%config InlineBackend.figure_format = 'retina'\n",
    "\n",
    "import helper\n",
    "import numpy as np\n",
    "\n",
    "# Explore the dataset\n",
    "batch_id = 2\n",
    "sample_id = 10\n",
    "helper.display_stats(cifar10_dataset_folder_path, batch_id, sample_id)"
   ]
  },
  {
   "cell_type": "markdown",
   "metadata": {},
   "source": [
    "## Implement Preprocess Functions\n",
    "### Normalize\n",
    "In the cell below, implement the `normalize` function to take in image data, `x`, and return it as a normalized Numpy array. The values should be in the range of 0 to 1, inclusive.  The return object should be the same shape as `x`."
   ]
  },
  {
   "cell_type": "code",
   "execution_count": 6,
   "metadata": {},
   "outputs": [
    {
     "name": "stdout",
     "output_type": "stream",
     "text": [
      "Tests Passed\n"
     ]
    }
   ],
   "source": [
    "def normalize(x):\n",
    "    \"\"\"\n",
    "    Normalize a list of sample image data in the range of 0 to 1\n",
    "    : x: List of image data.  The image shape is (32, 32, 3)\n",
    "    : return: Numpy array of normalize data\n",
    "    \"\"\"\n",
    "    return (x - np.min(x)) / (np.max(x) - np.min(x))\n",
    "\n",
    "\n",
    "\"\"\"\n",
    "DON'T MODIFY ANYTHING IN THIS CELL THAT IS BELOW THIS LINE\n",
    "\"\"\"\n",
    "tests.test_normalize(normalize)"
   ]
  },
  {
   "cell_type": "markdown",
   "metadata": {},
   "source": [
    "### One-hot encode\n",
    "Just like the previous code cell, you'll be implementing a function for preprocessing.  This time, you'll implement the `one_hot_encode` function. The input, `x`, are a list of labels.  Implement the function to return the list of labels as One-Hot encoded Numpy array.  The possible values for labels are 0 to 9. The one-hot encoding function should return the same encoding for each value between each call to `one_hot_encode`.  Make sure to save the map of encodings outside the function.\n",
    "\n",
    "Hint: Don't reinvent the wheel."
   ]
  },
  {
   "cell_type": "code",
   "execution_count": 12,
   "metadata": {},
   "outputs": [
    {
     "name": "stdout",
     "output_type": "stream",
     "text": [
      "Tests Passed\n"
     ]
    }
   ],
   "source": [
    "def one_hot_encode(x):\n",
    "    \"\"\"\n",
    "    One hot encode a list of sample labels. Return a one-hot encoded vector for each label.\n",
    "    : x: List of sample Labels\n",
    "    : return: Numpy array of one-hot encoded labels\n",
    "    \"\"\"\n",
    "    return np.eye(10)[x]\n",
    "\n",
    "\n",
    "\"\"\"\n",
    "DON'T MODIFY ANYTHING IN THIS CELL THAT IS BELOW THIS LINE\n",
    "\"\"\"\n",
    "tests.test_one_hot_encode(one_hot_encode)"
   ]
  },
  {
   "cell_type": "markdown",
   "metadata": {},
   "source": [
    "### Randomize Data\n",
    "As you saw from exploring the data above, the order of the samples are randomized.  It doesn't hurt to randomize it again, but you don't need to for this dataset."
   ]
  },
  {
   "cell_type": "markdown",
   "metadata": {},
   "source": [
    "## Preprocess all the data and save it\n",
    "Running the code cell below will preprocess all the CIFAR-10 data and save it to file. The code below also uses 10% of the training data for validation."
   ]
  },
  {
   "cell_type": "code",
   "execution_count": 13,
   "metadata": {
    "collapsed": true
   },
   "outputs": [],
   "source": [
    "\"\"\"\n",
    "DON'T MODIFY ANYTHING IN THIS CELL\n",
    "\"\"\"\n",
    "# Preprocess Training, Validation, and Testing Data\n",
    "helper.preprocess_and_save_data(cifar10_dataset_folder_path, normalize, one_hot_encode)"
   ]
  },
  {
   "cell_type": "markdown",
   "metadata": {},
   "source": [
    "# Check Point\n",
    "This is your first checkpoint.  If you ever decide to come back to this notebook or have to restart the notebook, you can start from here.  The preprocessed data has been saved to disk."
   ]
  },
  {
   "cell_type": "code",
   "execution_count": 14,
   "metadata": {
    "collapsed": true
   },
   "outputs": [],
   "source": [
    "\"\"\"\n",
    "DON'T MODIFY ANYTHING IN THIS CELL\n",
    "\"\"\"\n",
    "import pickle\n",
    "import problem_unittests as tests\n",
    "import helper\n",
    "\n",
    "# Load the Preprocessed Validation data\n",
    "valid_features, valid_labels = pickle.load(open('preprocess_validation.p', mode='rb'))"
   ]
  },
  {
   "cell_type": "markdown",
   "metadata": {},
   "source": [
    "## Build the network\n",
    "For the neural network, you'll build each layer into a function.  Most of the code you've seen has been outside of functions. To test your code more thoroughly, we require that you put each layer in a function.  This allows us to give you better feedback and test for simple mistakes using our unittests before you submit your project.\n",
    "\n",
    ">**Note:** If you're finding it hard to dedicate enough time for this course each week, we've provided a small shortcut to this part of the project. In the next couple of problems, you'll have the option to use classes from the [TensorFlow Layers](https://www.tensorflow.org/api_docs/python/tf/layers) or [TensorFlow Layers (contrib)](https://www.tensorflow.org/api_guides/python/contrib.layers) packages to build each layer, except the layers you build in the \"Convolutional and Max Pooling Layer\" section.  TF Layers is similar to Keras's and TFLearn's abstraction to layers, so it's easy to pickup.\n",
    "\n",
    ">However, if you would like to get the most out of this course, try to solve all the problems _without_ using anything from the TF Layers packages. You **can** still use classes from other packages that happen to have the same name as ones you find in TF Layers! For example, instead of using the TF Layers version of the `conv2d` class, [tf.layers.conv2d](https://www.tensorflow.org/api_docs/python/tf/layers/conv2d), you would want to use the TF Neural Network version of `conv2d`, [tf.nn.conv2d](https://www.tensorflow.org/api_docs/python/tf/nn/conv2d). \n",
    "\n",
    "Let's begin!\n",
    "\n",
    "### Input\n",
    "The neural network needs to read the image data, one-hot encoded labels, and dropout keep probability. Implement the following functions\n",
    "* Implement `neural_net_image_input`\n",
    " * Return a [TF Placeholder](https://www.tensorflow.org/api_docs/python/tf/placeholder)\n",
    " * Set the shape using `image_shape` with batch size set to `None`.\n",
    " * Name the TensorFlow placeholder \"x\" using the TensorFlow `name` parameter in the [TF Placeholder](https://www.tensorflow.org/api_docs/python/tf/placeholder).\n",
    "* Implement `neural_net_label_input`\n",
    " * Return a [TF Placeholder](https://www.tensorflow.org/api_docs/python/tf/placeholder)\n",
    " * Set the shape using `n_classes` with batch size set to `None`.\n",
    " * Name the TensorFlow placeholder \"y\" using the TensorFlow `name` parameter in the [TF Placeholder](https://www.tensorflow.org/api_docs/python/tf/placeholder).\n",
    "* Implement `neural_net_keep_prob_input`\n",
    " * Return a [TF Placeholder](https://www.tensorflow.org/api_docs/python/tf/placeholder) for dropout keep probability.\n",
    " * Name the TensorFlow placeholder \"keep_prob\" using the TensorFlow `name` parameter in the [TF Placeholder](https://www.tensorflow.org/api_docs/python/tf/placeholder).\n",
    "\n",
    "These names will be used at the end of the project to load your saved model.\n",
    "\n",
    "Note: `None` for shapes in TensorFlow allow for a dynamic size."
   ]
  },
  {
   "cell_type": "code",
   "execution_count": 15,
   "metadata": {},
   "outputs": [
    {
     "name": "stdout",
     "output_type": "stream",
     "text": [
      "Image Input Tests Passed.\n",
      "Label Input Tests Passed.\n",
      "Keep Prob Tests Passed.\n"
     ]
    }
   ],
   "source": [
    "import tensorflow as tf\n",
    "\n",
    "def neural_net_image_input(image_shape):\n",
    "    \"\"\"\n",
    "    Return a Tensor for a batch of image input\n",
    "    : image_shape: Shape of the images\n",
    "    : return: Tensor for image input.\n",
    "    \"\"\"\n",
    "    return tf.placeholder(dtype=tf.float32,\n",
    "                         shape=[None, image_shape[0], image_shape[1], image_shape[2]],\n",
    "                         name=\"x\")\n",
    "\n",
    "\n",
    "def neural_net_label_input(n_classes):\n",
    "    \"\"\"\n",
    "    Return a Tensor for a batch of label input\n",
    "    : n_classes: Number of classes\n",
    "    : return: Tensor for label input.\n",
    "    \"\"\"\n",
    "    return tf.placeholder(dtype=tf.float32,\n",
    "                         shape=[None, n_classes],\n",
    "                         name=\"y\")\n",
    "\n",
    "\n",
    "def neural_net_keep_prob_input():\n",
    "    \"\"\"\n",
    "    Return a Tensor for keep probability\n",
    "    : return: Tensor for keep probability.\n",
    "    \"\"\"\n",
    "    return tf.placeholder(dtype=tf.float32, \n",
    "                          name=\"keep_prob\")\n",
    "\n",
    "\n",
    "\"\"\"\n",
    "DON'T MODIFY ANYTHING IN THIS CELL THAT IS BELOW THIS LINE\n",
    "\"\"\"\n",
    "tf.reset_default_graph()\n",
    "tests.test_nn_image_inputs(neural_net_image_input)\n",
    "tests.test_nn_label_inputs(neural_net_label_input)\n",
    "tests.test_nn_keep_prob_inputs(neural_net_keep_prob_input)"
   ]
  },
  {
   "cell_type": "markdown",
   "metadata": {},
   "source": [
    "### Convolution and Max Pooling Layer\n",
    "Convolution layers have a lot of success with images. For this code cell, you should implement the function `conv2d_maxpool` to apply convolution then max pooling:\n",
    "* Create the weight and bias using `conv_ksize`, `conv_num_outputs` and the shape of `x_tensor`.\n",
    "* Apply a convolution to `x_tensor` using weight and `conv_strides`.\n",
    " * We recommend you use same padding, but you're welcome to use any padding.\n",
    "* Add bias\n",
    "* Add a nonlinear activation to the convolution.\n",
    "* Apply Max Pooling using `pool_ksize` and `pool_strides`.\n",
    " * We recommend you use same padding, but you're welcome to use any padding.\n",
    "\n",
    "**Note:** You **can't** use [TensorFlow Layers](https://www.tensorflow.org/api_docs/python/tf/layers) or [TensorFlow Layers (contrib)](https://www.tensorflow.org/api_guides/python/contrib.layers) for **this** layer, but you can still use TensorFlow's [Neural Network](https://www.tensorflow.org/api_docs/python/tf/nn) package. You may still use the shortcut option for all the **other** layers."
   ]
  },
  {
   "cell_type": "code",
   "execution_count": 21,
   "metadata": {},
   "outputs": [
    {
     "name": "stdout",
     "output_type": "stream",
     "text": [
      "Tests Passed\n"
     ]
    }
   ],
   "source": [
    "def conv2d_maxpool(x_tensor, conv_num_outputs, conv_ksize, conv_strides, pool_ksize, pool_strides):\n",
    "    \"\"\"\n",
    "    Apply convolution then max pooling to x_tensor\n",
    "    :param x_tensor: TensorFlow Tensor\n",
    "    :param conv_num_outputs: Number of outputs for the convolutional layer\n",
    "    :param conv_ksize: kernal size 2-D Tuple for the convolutional layer\n",
    "    :param conv_strides: Stride 2-D Tuple for convolution\n",
    "    :param pool_ksize: kernal size 2-D Tuple for pool\n",
    "    :param pool_strides: Stride 2-D Tuple for pool\n",
    "    : return: A tensor that represents convolution and max pooling of x_tensor\n",
    "    \"\"\"\n",
    "    # weights\n",
    "    weights = tf.Variable(tf.random_normal(\n",
    "        [*conv_ksize, \n",
    "         x_tensor.get_shape().as_list()[-1],\n",
    "         conv_num_outputs],\n",
    "        stddev=0.09,\n",
    "    ))\n",
    "\n",
    "    # biases\n",
    "    bias = tf.Variable(tf.zeros(conv_num_outputs))\n",
    "    \n",
    "    # conv layer with bias added and with non-linear activation\n",
    "    conv_bias = tf.nn.bias_add(tf.nn.conv2d(x_tensor, \n",
    "                                weights,\n",
    "                                [1, *conv_strides, 1],\n",
    "                                \"SAME\"), \n",
    "                               bias)\n",
    "    non_linear_activation = tf.nn.relu(conv_bias)\n",
    "    \n",
    "    # max poolingg\n",
    "    conv_layer_max_pool = tf.nn.max_pool(non_linear_activation,\n",
    "                                        [1, *pool_ksize, 1],\n",
    "                                        [1, *pool_strides, 1],\n",
    "                                        \"SAME\")\n",
    "    \n",
    "    return conv_layer_max_pool \n",
    "\n",
    "\n",
    "\"\"\"\n",
    "DON'T MODIFY ANYTHING IN THIS CELL THAT IS BELOW THIS LINE\n",
    "\"\"\"\n",
    "tests.test_con_pool(conv2d_maxpool)"
   ]
  },
  {
   "cell_type": "markdown",
   "metadata": {},
   "source": [
    "### Flatten Layer\n",
    "Implement the `flatten` function to change the dimension of `x_tensor` from a 4-D tensor to a 2-D tensor.  The output should be the shape (*Batch Size*, *Flattened Image Size*). Shortcut option: you can use classes from the [TensorFlow Layers](https://www.tensorflow.org/api_docs/python/tf/layers) or [TensorFlow Layers (contrib)](https://www.tensorflow.org/api_guides/python/contrib.layers) packages for this layer. For more of a challenge, only use other TensorFlow packages."
   ]
  },
  {
   "cell_type": "code",
   "execution_count": 23,
   "metadata": {},
   "outputs": [
    {
     "name": "stdout",
     "output_type": "stream",
     "text": [
      "Tests Passed\n"
     ]
    }
   ],
   "source": [
    "def flatten(x_tensor):\n",
    "    \"\"\"\n",
    "    Flatten x_tensor to (Batch Size, Flattened Image Size)\n",
    "    : x_tensor: A tensor of size (Batch Size, ...), where ... are the image dimensions.\n",
    "    : return: A tensor of size (Batch Size, Flattened Image Size).\n",
    "    \"\"\"\n",
    "    # TODO: Implement Function\n",
    "    shape = x_tensor.get_shape().as_list()\n",
    "    return tf.reshape(x_tensor, [-1, np.prod(shape[1:])])\n",
    "\n",
    "\n",
    "\"\"\"\n",
    "DON'T MODIFY ANYTHING IN THIS CELL THAT IS BELOW THIS LINE\n",
    "\"\"\"\n",
    "tests.test_flatten(flatten)"
   ]
  },
  {
   "cell_type": "markdown",
   "metadata": {},
   "source": [
    "### Fully-Connected Layer\n",
    "Implement the `fully_conn` function to apply a fully connected layer to `x_tensor` with the shape (*Batch Size*, *num_outputs*). Shortcut option: you can use classes from the [TensorFlow Layers](https://www.tensorflow.org/api_docs/python/tf/layers) or [TensorFlow Layers (contrib)](https://www.tensorflow.org/api_guides/python/contrib.layers) packages for this layer. For more of a challenge, only use other TensorFlow packages."
   ]
  },
  {
   "cell_type": "code",
   "execution_count": 24,
   "metadata": {},
   "outputs": [
    {
     "name": "stdout",
     "output_type": "stream",
     "text": [
      "Tests Passed\n"
     ]
    }
   ],
   "source": [
    "def fully_conn(x_tensor, num_outputs):\n",
    "    \"\"\"\n",
    "    Apply a fully connected layer to x_tensor using weight and bias\n",
    "    : x_tensor: A 2-D tensor where the first dimension is batch size.\n",
    "    : num_outputs: The number of output that the new tensor should be.\n",
    "    : return: A 2-D tensor where the second dimension is num_outputs.\n",
    "    \"\"\"\n",
    "    weight = tf.Variable(tf.truncated_normal([x_tensor.shape[1].value, num_outputs],\n",
    "                                            0, \n",
    "                                            0.09))\n",
    "    bias = tf.Variable(tf.zeros(num_outputs))\n",
    "    product = tf.matmul(x_tensor, weight)\n",
    "    added_bias = tf.nn.bias_add(product, bias)\n",
    "                    \n",
    "    return tf.nn.relu(added_bias)\n",
    "\n",
    "\n",
    "\"\"\"\n",
    "DON'T MODIFY ANYTHING IN THIS CELL THAT IS BELOW THIS LINE\n",
    "\"\"\"\n",
    "tests.test_fully_conn(fully_conn)"
   ]
  },
  {
   "cell_type": "markdown",
   "metadata": {},
   "source": [
    "### Output Layer\n",
    "Implement the `output` function to apply a fully connected layer to `x_tensor` with the shape (*Batch Size*, *num_outputs*). Shortcut option: you can use classes from the [TensorFlow Layers](https://www.tensorflow.org/api_docs/python/tf/layers) or [TensorFlow Layers (contrib)](https://www.tensorflow.org/api_guides/python/contrib.layers) packages for this layer. For more of a challenge, only use other TensorFlow packages.\n",
    "\n",
    "**Note:** Activation, softmax, or cross entropy should **not** be applied to this."
   ]
  },
  {
   "cell_type": "code",
   "execution_count": 25,
   "metadata": {},
   "outputs": [
    {
     "name": "stdout",
     "output_type": "stream",
     "text": [
      "Tests Passed\n"
     ]
    }
   ],
   "source": [
    "def output(x_tensor, num_outputs):\n",
    "    \"\"\"\n",
    "    Apply a output layer to x_tensor using weight and bias\n",
    "    : x_tensor: A 2-D tensor where the first dimension is batch size.\n",
    "    : num_outputs: The number of output that the new tensor should be.\n",
    "    : return: A 2-D tensor where the second dimension is num_outputs.\n",
    "    \"\"\"\n",
    "    weight = tf.Variable(tf.truncated_normal([x_tensor.shape[1].value,\n",
    "                                             num_outputs],\n",
    "                                            0,\n",
    "                                            0.09))\n",
    "    bias = tf.Variable(tf.zeros(num_outputs))\n",
    "    product = tf.matmul(x_tensor, weight)\n",
    "\n",
    "    return tf.nn.bias_add(product, bias)\n",
    "\n",
    "\n",
    "\"\"\"\n",
    "DON'T MODIFY ANYTHING IN THIS CELL THAT IS BELOW THIS LINE\n",
    "\"\"\"\n",
    "tests.test_output(output)"
   ]
  },
  {
   "cell_type": "markdown",
   "metadata": {},
   "source": [
    "### Create Convolutional Model\n",
    "Implement the function `conv_net` to create a convolutional neural network model. The function takes in a batch of images, `x`, and outputs logits.  Use the layers you created above to create this model:\n",
    "\n",
    "* Apply 1, 2, or 3 Convolution and Max Pool layers\n",
    "* Apply a Flatten Layer\n",
    "* Apply 1, 2, or 3 Fully Connected Layers\n",
    "* Apply an Output Layer\n",
    "* Return the output\n",
    "* Apply [TensorFlow's Dropout](https://www.tensorflow.org/api_docs/python/tf/nn/dropout) to one or more layers in the model using `keep_prob`. "
   ]
  },
  {
   "cell_type": "code",
   "execution_count": 28,
   "metadata": {},
   "outputs": [
    {
     "name": "stdout",
     "output_type": "stream",
     "text": [
      "Neural Network Built!\n"
     ]
    }
   ],
   "source": [
    "def conv_net(x, keep_prob):\n",
    "    \"\"\"\n",
    "    Create a convolutional neural network model\n",
    "    : x: Placeholder tensor that holds image data.\n",
    "    : keep_prob: Placeholder tensor that hold dropout keep probability.\n",
    "    : return: Tensor that represents logits\n",
    "    \"\"\"\n",
    "    # TODO: Apply 1, 2, or 3 Convolution and Max Pool layers\n",
    "    #    Play around with different number of outputs, kernel size and stride\n",
    "    # Function Definition from Above:\n",
    "    #    conv2d_maxpool(x_tensor, conv_num_outputs, conv_ksize, conv_strides, pool_ksize, pool_strides)\n",
    "    c_layer_1 = conv2d_maxpool(x, 8, [4, 4], [1, 1], [2, 2], [2, 2])\n",
    "    c_layer_2 = conv2d_maxpool(c_layer_1, 16, [4, 4], [1, 1], [2, 2], [2, 2])\n",
    "    c_layer_3 = conv2d_maxpool(c_layer_2, 64, [4, 4], [1, 1], [2, 2], [2, 2])\n",
    "\n",
    "    # TODO: Apply a Flatten Layer\n",
    "    # Function Definition from Above:\n",
    "    #   flatten(x_tensor)\n",
    "    flatten_layer = flatten(c_layer_3)\n",
    "    tf.nn.dropout(flatten_layer, keep_prob)\n",
    "#     flatten_layer = flatten(c_layer_3)\n",
    "#     tf.nn.dropout(flatten_layer, keep_prob)\n",
    "\n",
    "    # TODO: Apply 1, 2, or 3 Fully Connected Layers\n",
    "    #    Play around with different number of outputs\n",
    "    # Function Definition from Above:\n",
    "    #   fully_conn(x_tensor, num_outputs)\n",
    "    fc_layer_1 = fully_conn(flatten_layer, 256)\n",
    "    fc_layer_2 = fully_conn(fc_layer_1, 128)\n",
    "#     fc_layer_3 = fully_conn(fc_layer_2, 64)\n",
    "    tf.nn.dropout(fc_layer_2, keep_prob)\n",
    "    \n",
    "    # TODO: Apply an Output Layer\n",
    "    #    Set this to the number of classes\n",
    "    # Function Definition from Above:\n",
    "    #   output(x_tensor, num_outputs)\n",
    "    out_layer = output(fc_layer_2, 10)\n",
    "#     out_layer = output(fc_layer_3, 10)\n",
    "    \n",
    "    # TODO: return output\n",
    "    return out_layer\n",
    "#     return tf.nn.dropout(out_layer, keep_prob)\n",
    "\n",
    "\n",
    "\"\"\"\n",
    "DON'T MODIFY ANYTHING IN THIS CELL THAT IS BELOW THIS LINE\n",
    "\"\"\"\n",
    "\n",
    "##############################\n",
    "## Build the Neural Network ##\n",
    "##############################\n",
    "\n",
    "# Remove previous weights, bias, inputs, etc..\n",
    "tf.reset_default_graph()\n",
    "\n",
    "# Inputs\n",
    "x = neural_net_image_input((32, 32, 3))\n",
    "y = neural_net_label_input(10)\n",
    "keep_prob = neural_net_keep_prob_input()\n",
    "\n",
    "# Model\n",
    "logits = conv_net(x, keep_prob)\n",
    "\n",
    "# Name logits Tensor, so that is can be loaded from disk after training\n",
    "logits = tf.identity(logits, name='logits')\n",
    "\n",
    "# Loss and Optimizer\n",
    "cost = tf.reduce_mean(tf.nn.softmax_cross_entropy_with_logits(logits=logits, labels=y))\n",
    "optimizer = tf.train.AdamOptimizer().minimize(cost)\n",
    "\n",
    "# Accuracy\n",
    "correct_pred = tf.equal(tf.argmax(logits, 1), tf.argmax(y, 1))\n",
    "accuracy = tf.reduce_mean(tf.cast(correct_pred, tf.float32), name='accuracy')\n",
    "\n",
    "tests.test_conv_net(conv_net)"
   ]
  },
  {
   "cell_type": "markdown",
   "metadata": {},
   "source": [
    "## Train the Neural Network\n",
    "### Single Optimization\n",
    "Implement the function `train_neural_network` to do a single optimization.  The optimization should use `optimizer` to optimize in `session` with a `feed_dict` of the following:\n",
    "* `x` for image input\n",
    "* `y` for labels\n",
    "* `keep_prob` for keep probability for dropout\n",
    "\n",
    "This function will be called for each batch, so `tf.global_variables_initializer()` has already been called.\n",
    "\n",
    "Note: Nothing needs to be returned. This function is only optimizing the neural network."
   ]
  },
  {
   "cell_type": "code",
   "execution_count": 29,
   "metadata": {},
   "outputs": [
    {
     "name": "stdout",
     "output_type": "stream",
     "text": [
      "Tests Passed\n"
     ]
    }
   ],
   "source": [
    "def train_neural_network(session, optimizer, keep_probability, feature_batch, label_batch):\n",
    "    \"\"\"\n",
    "    Optimize the session on a batch of images and labels\n",
    "    : session: Current TensorFlow session\n",
    "    : optimizer: TensorFlow optimizer function\n",
    "    : keep_probability: keep probability\n",
    "    : feature_batch: Batch of Numpy image data\n",
    "    : label_batch: Batch of Numpy label data\n",
    "    \"\"\"\n",
    "    # TODO: Implement Function\n",
    "    session.run(optimizer,\n",
    "               {x: feature_batch, y:label_batch, keep_prob: keep_probability}\n",
    "               )\n",
    "\n",
    "\n",
    "\"\"\"\n",
    "DON'T MODIFY ANYTHING IN THIS CELL THAT IS BELOW THIS LINE\n",
    "\"\"\"\n",
    "tests.test_train_nn(train_neural_network)"
   ]
  },
  {
   "cell_type": "markdown",
   "metadata": {},
   "source": [
    "### Show Stats\n",
    "Implement the function `print_stats` to print loss and validation accuracy.  Use the global variables `valid_features` and `valid_labels` to calculate validation accuracy.  Use a keep probability of `1.0` to calculate the loss and validation accuracy."
   ]
  },
  {
   "cell_type": "code",
   "execution_count": 32,
   "metadata": {},
   "outputs": [],
   "source": [
    "def print_stats(session, feature_batch, label_batch, cost, accuracy):\n",
    "    \"\"\"\n",
    "    Print information about loss and validation accuracy\n",
    "    : session: Current TensorFlow session\n",
    "    : feature_batch: Batch of Numpy image data\n",
    "    : label_batch: Batch of Numpy label data\n",
    "    : cost: TensorFlow cost function\n",
    "    : accuracy: TensorFlow accuracy function\n",
    "    \"\"\"\n",
    "\n",
    "    loss = session.run(cost, \n",
    "                       {x: feature_batch, y: label_batch, keep_prob: 1.0}\n",
    "                      )\n",
    "    val_acc = session.run(accuracy,\n",
    "                         {x: valid_features, y: valid_labels, keep_prob: 1.0}\n",
    "                         )\n",
    "    \n",
    "    print('LOSS ==> %f ;;; VALIDATION ACCURACY ==> %f' % (loss, val_acc))"
   ]
  },
  {
   "cell_type": "markdown",
   "metadata": {},
   "source": [
    "### Hyperparameters\n",
    "Tune the following parameters:\n",
    "* Set `epochs` to the number of iterations until the network stops learning or start overfitting\n",
    "* Set `batch_size` to the highest number that your machine has memory for.  Most people set them to common sizes of memory:\n",
    " * 64\n",
    " * 128\n",
    " * 256\n",
    " * ...\n",
    "* Set `keep_probability` to the probability of keeping a node using dropout"
   ]
  },
  {
   "cell_type": "code",
   "execution_count": 37,
   "metadata": {
    "collapsed": true
   },
   "outputs": [],
   "source": [
    "# TODO: Tune Parameters\n",
    "epochs = 50\n",
    "batch_size = 128\n",
    "keep_probability = 0.70"
   ]
  },
  {
   "cell_type": "markdown",
   "metadata": {},
   "source": [
    "### Train on a Single CIFAR-10 Batch\n",
    "Instead of training the neural network on all the CIFAR-10 batches of data, let's use a single batch. This should save time while you iterate on the model to get a better accuracy.  Once the final validation accuracy is 50% or greater, run the model on all the data in the next section."
   ]
  },
  {
   "cell_type": "code",
   "execution_count": 34,
   "metadata": {},
   "outputs": [
    {
     "name": "stdout",
     "output_type": "stream",
     "text": [
      "Checking the Training on a Single Batch...\n",
      "Epoch  1, CIFAR-10 Batch 1:  LOSS ==> 1.948661 ;;; VALIDATION ACCURACY ==> 0.367200\n",
      "Epoch  2, CIFAR-10 Batch 1:  LOSS ==> 1.723493 ;;; VALIDATION ACCURACY ==> 0.420800\n",
      "Epoch  3, CIFAR-10 Batch 1:  LOSS ==> 1.540806 ;;; VALIDATION ACCURACY ==> 0.442000\n",
      "Epoch  4, CIFAR-10 Batch 1:  LOSS ==> 1.405041 ;;; VALIDATION ACCURACY ==> 0.460600\n",
      "Epoch  5, CIFAR-10 Batch 1:  LOSS ==> 1.315927 ;;; VALIDATION ACCURACY ==> 0.487800\n",
      "Epoch  6, CIFAR-10 Batch 1:  LOSS ==> 1.206519 ;;; VALIDATION ACCURACY ==> 0.505600\n",
      "Epoch  7, CIFAR-10 Batch 1:  LOSS ==> 1.109927 ;;; VALIDATION ACCURACY ==> 0.513800\n",
      "Epoch  8, CIFAR-10 Batch 1:  LOSS ==> 1.023643 ;;; VALIDATION ACCURACY ==> 0.495800\n",
      "Epoch  9, CIFAR-10 Batch 1:  LOSS ==> 0.963391 ;;; VALIDATION ACCURACY ==> 0.486200\n",
      "Epoch 10, CIFAR-10 Batch 1:  LOSS ==> 0.823130 ;;; VALIDATION ACCURACY ==> 0.492400\n",
      "Epoch 11, CIFAR-10 Batch 1:  LOSS ==> 0.677300 ;;; VALIDATION ACCURACY ==> 0.513000\n",
      "Epoch 12, CIFAR-10 Batch 1:  LOSS ==> 0.590242 ;;; VALIDATION ACCURACY ==> 0.522800\n",
      "Epoch 13, CIFAR-10 Batch 1:  LOSS ==> 0.562009 ;;; VALIDATION ACCURACY ==> 0.526000\n",
      "Epoch 14, CIFAR-10 Batch 1:  LOSS ==> 0.473146 ;;; VALIDATION ACCURACY ==> 0.524000\n",
      "Epoch 15, CIFAR-10 Batch 1:  LOSS ==> 0.381052 ;;; VALIDATION ACCURACY ==> 0.516600\n",
      "Epoch 16, CIFAR-10 Batch 1:  LOSS ==> 0.320679 ;;; VALIDATION ACCURACY ==> 0.523600\n",
      "Epoch 17, CIFAR-10 Batch 1:  LOSS ==> 0.263220 ;;; VALIDATION ACCURACY ==> 0.528800\n",
      "Epoch 18, CIFAR-10 Batch 1:  LOSS ==> 0.218936 ;;; VALIDATION ACCURACY ==> 0.533600\n",
      "Epoch 19, CIFAR-10 Batch 1:  LOSS ==> 0.175545 ;;; VALIDATION ACCURACY ==> 0.534000\n",
      "Epoch 20, CIFAR-10 Batch 1:  LOSS ==> 0.198316 ;;; VALIDATION ACCURACY ==> 0.533400\n",
      "Epoch 21, CIFAR-10 Batch 1:  LOSS ==> 0.162320 ;;; VALIDATION ACCURACY ==> 0.526000\n",
      "Epoch 22, CIFAR-10 Batch 1:  LOSS ==> 0.107428 ;;; VALIDATION ACCURACY ==> 0.518000\n",
      "Epoch 23, CIFAR-10 Batch 1:  LOSS ==> 0.087311 ;;; VALIDATION ACCURACY ==> 0.516000\n",
      "Epoch 24, CIFAR-10 Batch 1:  LOSS ==> 0.109648 ;;; VALIDATION ACCURACY ==> 0.502600\n",
      "Epoch 25, CIFAR-10 Batch 1:  LOSS ==> 0.067961 ;;; VALIDATION ACCURACY ==> 0.530000\n",
      "Epoch 26, CIFAR-10 Batch 1:  LOSS ==> 0.089840 ;;; VALIDATION ACCURACY ==> 0.523200\n",
      "Epoch 27, CIFAR-10 Batch 1:  LOSS ==> 0.078427 ;;; VALIDATION ACCURACY ==> 0.509400\n",
      "Epoch 28, CIFAR-10 Batch 1:  LOSS ==> 0.106522 ;;; VALIDATION ACCURACY ==> 0.496600\n",
      "Epoch 29, CIFAR-10 Batch 1:  LOSS ==> 0.043556 ;;; VALIDATION ACCURACY ==> 0.524000\n",
      "Epoch 30, CIFAR-10 Batch 1:  LOSS ==> 0.037471 ;;; VALIDATION ACCURACY ==> 0.505200\n",
      "Epoch 31, CIFAR-10 Batch 1:  LOSS ==> 0.043359 ;;; VALIDATION ACCURACY ==> 0.519000\n",
      "Epoch 32, CIFAR-10 Batch 1:  LOSS ==> 0.030665 ;;; VALIDATION ACCURACY ==> 0.518200\n",
      "Epoch 33, CIFAR-10 Batch 1:  LOSS ==> 0.033985 ;;; VALIDATION ACCURACY ==> 0.510600\n",
      "Epoch 34, CIFAR-10 Batch 1:  LOSS ==> 0.052024 ;;; VALIDATION ACCURACY ==> 0.519000\n",
      "Epoch 35, CIFAR-10 Batch 1:  LOSS ==> 0.040580 ;;; VALIDATION ACCURACY ==> 0.500600\n",
      "Epoch 36, CIFAR-10 Batch 1:  LOSS ==> 0.019967 ;;; VALIDATION ACCURACY ==> 0.519200\n",
      "Epoch 37, CIFAR-10 Batch 1:  LOSS ==> 0.023422 ;;; VALIDATION ACCURACY ==> 0.493600\n",
      "Epoch 38, CIFAR-10 Batch 1:  LOSS ==> 0.042341 ;;; VALIDATION ACCURACY ==> 0.485200\n",
      "Epoch 39, CIFAR-10 Batch 1:  LOSS ==> 0.035127 ;;; VALIDATION ACCURACY ==> 0.477000\n",
      "Epoch 40, CIFAR-10 Batch 1:  LOSS ==> 0.018501 ;;; VALIDATION ACCURACY ==> 0.507600\n"
     ]
    }
   ],
   "source": [
    "\"\"\"\n",
    "DON'T MODIFY ANYTHING IN THIS CELL\n",
    "\"\"\"\n",
    "print('Checking the Training on a Single Batch...')\n",
    "with tf.Session() as sess:\n",
    "    # Initializing the variables\n",
    "    sess.run(tf.global_variables_initializer())\n",
    "    \n",
    "    # Training cycle\n",
    "    for epoch in range(epochs):\n",
    "        batch_i = 1\n",
    "        for batch_features, batch_labels in helper.load_preprocess_training_batch(batch_i, batch_size):\n",
    "            train_neural_network(sess, optimizer, keep_probability, batch_features, batch_labels)\n",
    "        print('Epoch {:>2}, CIFAR-10 Batch {}:  '.format(epoch + 1, batch_i), end='')\n",
    "        print_stats(sess, batch_features, batch_labels, cost, accuracy)"
   ]
  },
  {
   "cell_type": "markdown",
   "metadata": {},
   "source": [
    "### Fully Train the Model\n",
    "Now that you got a good accuracy with a single CIFAR-10 batch, try it with all five batches."
   ]
  },
  {
   "cell_type": "code",
   "execution_count": 38,
   "metadata": {},
   "outputs": [
    {
     "name": "stdout",
     "output_type": "stream",
     "text": [
      "Training...\n",
      "Epoch  1, CIFAR-10 Batch 1:  LOSS ==> 2.117732 ;;; VALIDATION ACCURACY ==> 0.310400\n",
      "Epoch  1, CIFAR-10 Batch 2:  LOSS ==> 1.716747 ;;; VALIDATION ACCURACY ==> 0.389000\n",
      "Epoch  1, CIFAR-10 Batch 3:  LOSS ==> 1.339714 ;;; VALIDATION ACCURACY ==> 0.415000\n",
      "Epoch  1, CIFAR-10 Batch 4:  LOSS ==> 1.450895 ;;; VALIDATION ACCURACY ==> 0.442400\n",
      "Epoch  1, CIFAR-10 Batch 5:  LOSS ==> 1.503679 ;;; VALIDATION ACCURACY ==> 0.452600\n",
      "Epoch  2, CIFAR-10 Batch 1:  LOSS ==> 1.499112 ;;; VALIDATION ACCURACY ==> 0.493600\n",
      "Epoch  2, CIFAR-10 Batch 2:  LOSS ==> 1.426450 ;;; VALIDATION ACCURACY ==> 0.481800\n",
      "Epoch  2, CIFAR-10 Batch 3:  LOSS ==> 1.022416 ;;; VALIDATION ACCURACY ==> 0.493600\n",
      "Epoch  2, CIFAR-10 Batch 4:  LOSS ==> 1.204631 ;;; VALIDATION ACCURACY ==> 0.513600\n",
      "Epoch  2, CIFAR-10 Batch 5:  LOSS ==> 1.202562 ;;; VALIDATION ACCURACY ==> 0.523000\n",
      "Epoch  3, CIFAR-10 Batch 1:  LOSS ==> 1.297855 ;;; VALIDATION ACCURACY ==> 0.537000\n",
      "Epoch  3, CIFAR-10 Batch 2:  LOSS ==> 1.123646 ;;; VALIDATION ACCURACY ==> 0.536200\n",
      "Epoch  3, CIFAR-10 Batch 3:  LOSS ==> 0.837276 ;;; VALIDATION ACCURACY ==> 0.516000\n",
      "Epoch  3, CIFAR-10 Batch 4:  LOSS ==> 0.999702 ;;; VALIDATION ACCURACY ==> 0.557000\n",
      "Epoch  3, CIFAR-10 Batch 5:  LOSS ==> 0.975904 ;;; VALIDATION ACCURACY ==> 0.558800\n",
      "Epoch  4, CIFAR-10 Batch 1:  LOSS ==> 1.100645 ;;; VALIDATION ACCURACY ==> 0.554200\n",
      "Epoch  4, CIFAR-10 Batch 2:  LOSS ==> 0.909994 ;;; VALIDATION ACCURACY ==> 0.558000\n",
      "Epoch  4, CIFAR-10 Batch 3:  LOSS ==> 0.691907 ;;; VALIDATION ACCURACY ==> 0.532200\n",
      "Epoch  4, CIFAR-10 Batch 4:  LOSS ==> 0.771233 ;;; VALIDATION ACCURACY ==> 0.584400\n",
      "Epoch  4, CIFAR-10 Batch 5:  LOSS ==> 0.765411 ;;; VALIDATION ACCURACY ==> 0.582400\n",
      "Epoch  5, CIFAR-10 Batch 1:  LOSS ==> 0.913408 ;;; VALIDATION ACCURACY ==> 0.576200\n",
      "Epoch  5, CIFAR-10 Batch 2:  LOSS ==> 0.734450 ;;; VALIDATION ACCURACY ==> 0.586600\n",
      "Epoch  5, CIFAR-10 Batch 3:  LOSS ==> 0.515209 ;;; VALIDATION ACCURACY ==> 0.581600\n",
      "Epoch  5, CIFAR-10 Batch 4:  LOSS ==> 0.598287 ;;; VALIDATION ACCURACY ==> 0.601000\n",
      "Epoch  5, CIFAR-10 Batch 5:  LOSS ==> 0.613651 ;;; VALIDATION ACCURACY ==> 0.595600\n",
      "Epoch  6, CIFAR-10 Batch 1:  LOSS ==> 0.771984 ;;; VALIDATION ACCURACY ==> 0.598000\n",
      "Epoch  6, CIFAR-10 Batch 2:  LOSS ==> 0.589367 ;;; VALIDATION ACCURACY ==> 0.601600\n",
      "Epoch  6, CIFAR-10 Batch 3:  LOSS ==> 0.409340 ;;; VALIDATION ACCURACY ==> 0.597000\n",
      "Epoch  6, CIFAR-10 Batch 4:  LOSS ==> 0.501135 ;;; VALIDATION ACCURACY ==> 0.613600\n",
      "Epoch  6, CIFAR-10 Batch 5:  LOSS ==> 0.476260 ;;; VALIDATION ACCURACY ==> 0.608800\n",
      "Epoch  7, CIFAR-10 Batch 1:  LOSS ==> 0.644166 ;;; VALIDATION ACCURACY ==> 0.613000\n",
      "Epoch  7, CIFAR-10 Batch 2:  LOSS ==> 0.478072 ;;; VALIDATION ACCURACY ==> 0.611000\n",
      "Epoch  7, CIFAR-10 Batch 3:  LOSS ==> 0.326366 ;;; VALIDATION ACCURACY ==> 0.615400\n",
      "Epoch  7, CIFAR-10 Batch 4:  LOSS ==> 0.397543 ;;; VALIDATION ACCURACY ==> 0.621400\n",
      "Epoch  7, CIFAR-10 Batch 5:  LOSS ==> 0.362379 ;;; VALIDATION ACCURACY ==> 0.613400\n",
      "Epoch  8, CIFAR-10 Batch 1:  LOSS ==> 0.530365 ;;; VALIDATION ACCURACY ==> 0.617200\n",
      "Epoch  8, CIFAR-10 Batch 2:  LOSS ==> 0.384447 ;;; VALIDATION ACCURACY ==> 0.615800\n",
      "Epoch  8, CIFAR-10 Batch 3:  LOSS ==> 0.268508 ;;; VALIDATION ACCURACY ==> 0.629200\n",
      "Epoch  8, CIFAR-10 Batch 4:  LOSS ==> 0.328031 ;;; VALIDATION ACCURACY ==> 0.624000\n",
      "Epoch  8, CIFAR-10 Batch 5:  LOSS ==> 0.297191 ;;; VALIDATION ACCURACY ==> 0.617800\n",
      "Epoch  9, CIFAR-10 Batch 1:  LOSS ==> 0.435893 ;;; VALIDATION ACCURACY ==> 0.620000\n",
      "Epoch  9, CIFAR-10 Batch 2:  LOSS ==> 0.315001 ;;; VALIDATION ACCURACY ==> 0.620800\n",
      "Epoch  9, CIFAR-10 Batch 3:  LOSS ==> 0.224560 ;;; VALIDATION ACCURACY ==> 0.636400\n",
      "Epoch  9, CIFAR-10 Batch 4:  LOSS ==> 0.273993 ;;; VALIDATION ACCURACY ==> 0.629400\n",
      "Epoch  9, CIFAR-10 Batch 5:  LOSS ==> 0.257823 ;;; VALIDATION ACCURACY ==> 0.610000\n",
      "Epoch 10, CIFAR-10 Batch 1:  LOSS ==> 0.362931 ;;; VALIDATION ACCURACY ==> 0.615800\n",
      "Epoch 10, CIFAR-10 Batch 2:  LOSS ==> 0.273867 ;;; VALIDATION ACCURACY ==> 0.626800\n",
      "Epoch 10, CIFAR-10 Batch 3:  LOSS ==> 0.206039 ;;; VALIDATION ACCURACY ==> 0.620800\n",
      "Epoch 10, CIFAR-10 Batch 4:  LOSS ==> 0.240353 ;;; VALIDATION ACCURACY ==> 0.630000\n",
      "Epoch 10, CIFAR-10 Batch 5:  LOSS ==> 0.200188 ;;; VALIDATION ACCURACY ==> 0.631200\n",
      "Epoch 11, CIFAR-10 Batch 1:  LOSS ==> 0.346530 ;;; VALIDATION ACCURACY ==> 0.598800\n",
      "Epoch 11, CIFAR-10 Batch 2:  LOSS ==> 0.236187 ;;; VALIDATION ACCURACY ==> 0.628000\n",
      "Epoch 11, CIFAR-10 Batch 3:  LOSS ==> 0.196251 ;;; VALIDATION ACCURACY ==> 0.602800\n",
      "Epoch 11, CIFAR-10 Batch 4:  LOSS ==> 0.210133 ;;; VALIDATION ACCURACY ==> 0.629200\n",
      "Epoch 11, CIFAR-10 Batch 5:  LOSS ==> 0.182302 ;;; VALIDATION ACCURACY ==> 0.611600\n",
      "Epoch 12, CIFAR-10 Batch 1:  LOSS ==> 0.288174 ;;; VALIDATION ACCURACY ==> 0.611200\n",
      "Epoch 12, CIFAR-10 Batch 2:  LOSS ==> 0.204433 ;;; VALIDATION ACCURACY ==> 0.623400\n",
      "Epoch 12, CIFAR-10 Batch 3:  LOSS ==> 0.144071 ;;; VALIDATION ACCURACY ==> 0.620200\n",
      "Epoch 12, CIFAR-10 Batch 4:  LOSS ==> 0.178785 ;;; VALIDATION ACCURACY ==> 0.629000\n",
      "Epoch 12, CIFAR-10 Batch 5:  LOSS ==> 0.145184 ;;; VALIDATION ACCURACY ==> 0.619400\n",
      "Epoch 13, CIFAR-10 Batch 1:  LOSS ==> 0.216786 ;;; VALIDATION ACCURACY ==> 0.638200\n",
      "Epoch 13, CIFAR-10 Batch 2:  LOSS ==> 0.169056 ;;; VALIDATION ACCURACY ==> 0.620800\n",
      "Epoch 13, CIFAR-10 Batch 3:  LOSS ==> 0.129891 ;;; VALIDATION ACCURACY ==> 0.611200\n",
      "Epoch 13, CIFAR-10 Batch 4:  LOSS ==> 0.156896 ;;; VALIDATION ACCURACY ==> 0.626400\n",
      "Epoch 13, CIFAR-10 Batch 5:  LOSS ==> 0.140123 ;;; VALIDATION ACCURACY ==> 0.614600\n",
      "Epoch 14, CIFAR-10 Batch 1:  LOSS ==> 0.235504 ;;; VALIDATION ACCURACY ==> 0.616200\n",
      "Epoch 14, CIFAR-10 Batch 2:  LOSS ==> 0.166536 ;;; VALIDATION ACCURACY ==> 0.633200\n",
      "Epoch 14, CIFAR-10 Batch 3:  LOSS ==> 0.097953 ;;; VALIDATION ACCURACY ==> 0.624000\n",
      "Epoch 14, CIFAR-10 Batch 4:  LOSS ==> 0.161242 ;;; VALIDATION ACCURACY ==> 0.621600\n",
      "Epoch 14, CIFAR-10 Batch 5:  LOSS ==> 0.125104 ;;; VALIDATION ACCURACY ==> 0.609000\n",
      "Epoch 15, CIFAR-10 Batch 1:  LOSS ==> 0.195652 ;;; VALIDATION ACCURACY ==> 0.620800\n",
      "Epoch 15, CIFAR-10 Batch 2:  LOSS ==> 0.149335 ;;; VALIDATION ACCURACY ==> 0.634400\n",
      "Epoch 15, CIFAR-10 Batch 3:  LOSS ==> 0.090155 ;;; VALIDATION ACCURACY ==> 0.619600\n",
      "Epoch 15, CIFAR-10 Batch 4:  LOSS ==> 0.134930 ;;; VALIDATION ACCURACY ==> 0.618600\n",
      "Epoch 15, CIFAR-10 Batch 5:  LOSS ==> 0.106868 ;;; VALIDATION ACCURACY ==> 0.638600\n",
      "Epoch 16, CIFAR-10 Batch 1:  LOSS ==> 0.123357 ;;; VALIDATION ACCURACY ==> 0.630600\n",
      "Epoch 16, CIFAR-10 Batch 2:  LOSS ==> 0.108732 ;;; VALIDATION ACCURACY ==> 0.631600\n",
      "Epoch 16, CIFAR-10 Batch 3:  LOSS ==> 0.084263 ;;; VALIDATION ACCURACY ==> 0.621800\n",
      "Epoch 16, CIFAR-10 Batch 4:  LOSS ==> 0.104501 ;;; VALIDATION ACCURACY ==> 0.624200\n",
      "Epoch 16, CIFAR-10 Batch 5:  LOSS ==> 0.105584 ;;; VALIDATION ACCURACY ==> 0.638200\n",
      "Epoch 17, CIFAR-10 Batch 1:  LOSS ==> 0.112311 ;;; VALIDATION ACCURACY ==> 0.644400\n",
      "Epoch 17, CIFAR-10 Batch 2:  LOSS ==> 0.093455 ;;; VALIDATION ACCURACY ==> 0.631000\n",
      "Epoch 17, CIFAR-10 Batch 3:  LOSS ==> 0.083740 ;;; VALIDATION ACCURACY ==> 0.600000\n",
      "Epoch 17, CIFAR-10 Batch 4:  LOSS ==> 0.084099 ;;; VALIDATION ACCURACY ==> 0.624800\n",
      "Epoch 17, CIFAR-10 Batch 5:  LOSS ==> 0.078822 ;;; VALIDATION ACCURACY ==> 0.634000\n",
      "Epoch 18, CIFAR-10 Batch 1:  LOSS ==> 0.093209 ;;; VALIDATION ACCURACY ==> 0.643200\n",
      "Epoch 18, CIFAR-10 Batch 2:  LOSS ==> 0.069295 ;;; VALIDATION ACCURACY ==> 0.625600\n",
      "Epoch 18, CIFAR-10 Batch 3:  LOSS ==> 0.106153 ;;; VALIDATION ACCURACY ==> 0.568200\n",
      "Epoch 18, CIFAR-10 Batch 4:  LOSS ==> 0.090980 ;;; VALIDATION ACCURACY ==> 0.614400\n",
      "Epoch 18, CIFAR-10 Batch 5:  LOSS ==> 0.065648 ;;; VALIDATION ACCURACY ==> 0.629000\n",
      "Epoch 19, CIFAR-10 Batch 1:  LOSS ==> 0.087152 ;;; VALIDATION ACCURACY ==> 0.636600\n",
      "Epoch 19, CIFAR-10 Batch 2:  LOSS ==> 0.069127 ;;; VALIDATION ACCURACY ==> 0.615200\n",
      "Epoch 19, CIFAR-10 Batch 3:  LOSS ==> 0.081029 ;;; VALIDATION ACCURACY ==> 0.585600\n",
      "Epoch 19, CIFAR-10 Batch 4:  LOSS ==> 0.075431 ;;; VALIDATION ACCURACY ==> 0.624600\n",
      "Epoch 19, CIFAR-10 Batch 5:  LOSS ==> 0.056835 ;;; VALIDATION ACCURACY ==> 0.624400\n",
      "Epoch 20, CIFAR-10 Batch 1:  LOSS ==> 0.087141 ;;; VALIDATION ACCURACY ==> 0.618000\n",
      "Epoch 20, CIFAR-10 Batch 2:  LOSS ==> 0.115683 ;;; VALIDATION ACCURACY ==> 0.596000\n",
      "Epoch 20, CIFAR-10 Batch 3:  LOSS ==> 0.088139 ;;; VALIDATION ACCURACY ==> 0.621600\n"
     ]
    },
    {
     "name": "stdout",
     "output_type": "stream",
     "text": [
      "Epoch 20, CIFAR-10 Batch 4:  LOSS ==> 0.078871 ;;; VALIDATION ACCURACY ==> 0.613800\n",
      "Epoch 20, CIFAR-10 Batch 5:  LOSS ==> 0.055755 ;;; VALIDATION ACCURACY ==> 0.619600\n",
      "Epoch 21, CIFAR-10 Batch 1:  LOSS ==> 0.077869 ;;; VALIDATION ACCURACY ==> 0.628200\n",
      "Epoch 21, CIFAR-10 Batch 2:  LOSS ==> 0.064762 ;;; VALIDATION ACCURACY ==> 0.620800\n",
      "Epoch 21, CIFAR-10 Batch 3:  LOSS ==> 0.079801 ;;; VALIDATION ACCURACY ==> 0.608400\n",
      "Epoch 21, CIFAR-10 Batch 4:  LOSS ==> 0.086429 ;;; VALIDATION ACCURACY ==> 0.589000\n",
      "Epoch 21, CIFAR-10 Batch 5:  LOSS ==> 0.051644 ;;; VALIDATION ACCURACY ==> 0.637200\n",
      "Epoch 22, CIFAR-10 Batch 1:  LOSS ==> 0.083274 ;;; VALIDATION ACCURACY ==> 0.630600\n",
      "Epoch 22, CIFAR-10 Batch 2:  LOSS ==> 0.051712 ;;; VALIDATION ACCURACY ==> 0.628000\n",
      "Epoch 22, CIFAR-10 Batch 3:  LOSS ==> 0.082264 ;;; VALIDATION ACCURACY ==> 0.569800\n",
      "Epoch 22, CIFAR-10 Batch 4:  LOSS ==> 0.068524 ;;; VALIDATION ACCURACY ==> 0.568200\n",
      "Epoch 22, CIFAR-10 Batch 5:  LOSS ==> 0.070497 ;;; VALIDATION ACCURACY ==> 0.615800\n",
      "Epoch 23, CIFAR-10 Batch 1:  LOSS ==> 0.077489 ;;; VALIDATION ACCURACY ==> 0.630200\n",
      "Epoch 23, CIFAR-10 Batch 2:  LOSS ==> 0.068833 ;;; VALIDATION ACCURACY ==> 0.618000\n",
      "Epoch 23, CIFAR-10 Batch 3:  LOSS ==> 0.049886 ;;; VALIDATION ACCURACY ==> 0.574000\n",
      "Epoch 23, CIFAR-10 Batch 4:  LOSS ==> 0.065771 ;;; VALIDATION ACCURACY ==> 0.560000\n",
      "Epoch 23, CIFAR-10 Batch 5:  LOSS ==> 0.057085 ;;; VALIDATION ACCURACY ==> 0.630400\n",
      "Epoch 24, CIFAR-10 Batch 1:  LOSS ==> 0.081625 ;;; VALIDATION ACCURACY ==> 0.622000\n",
      "Epoch 24, CIFAR-10 Batch 2:  LOSS ==> 0.069308 ;;; VALIDATION ACCURACY ==> 0.605400\n",
      "Epoch 24, CIFAR-10 Batch 3:  LOSS ==> 0.044173 ;;; VALIDATION ACCURACY ==> 0.586600\n",
      "Epoch 24, CIFAR-10 Batch 4:  LOSS ==> 0.050223 ;;; VALIDATION ACCURACY ==> 0.579800\n",
      "Epoch 24, CIFAR-10 Batch 5:  LOSS ==> 0.035192 ;;; VALIDATION ACCURACY ==> 0.627200\n",
      "Epoch 25, CIFAR-10 Batch 1:  LOSS ==> 0.059393 ;;; VALIDATION ACCURACY ==> 0.609200\n",
      "Epoch 25, CIFAR-10 Batch 2:  LOSS ==> 0.047987 ;;; VALIDATION ACCURACY ==> 0.612400\n",
      "Epoch 25, CIFAR-10 Batch 3:  LOSS ==> 0.048382 ;;; VALIDATION ACCURACY ==> 0.592200\n",
      "Epoch 25, CIFAR-10 Batch 4:  LOSS ==> 0.030326 ;;; VALIDATION ACCURACY ==> 0.603600\n",
      "Epoch 25, CIFAR-10 Batch 5:  LOSS ==> 0.035474 ;;; VALIDATION ACCURACY ==> 0.622600\n",
      "Epoch 26, CIFAR-10 Batch 1:  LOSS ==> 0.041423 ;;; VALIDATION ACCURACY ==> 0.620000\n",
      "Epoch 26, CIFAR-10 Batch 2:  LOSS ==> 0.039001 ;;; VALIDATION ACCURACY ==> 0.617200\n",
      "Epoch 26, CIFAR-10 Batch 3:  LOSS ==> 0.040966 ;;; VALIDATION ACCURACY ==> 0.590200\n",
      "Epoch 26, CIFAR-10 Batch 4:  LOSS ==> 0.026484 ;;; VALIDATION ACCURACY ==> 0.602800\n",
      "Epoch 26, CIFAR-10 Batch 5:  LOSS ==> 0.020352 ;;; VALIDATION ACCURACY ==> 0.624600\n",
      "Epoch 27, CIFAR-10 Batch 1:  LOSS ==> 0.029341 ;;; VALIDATION ACCURACY ==> 0.618200\n",
      "Epoch 27, CIFAR-10 Batch 2:  LOSS ==> 0.035244 ;;; VALIDATION ACCURACY ==> 0.603200\n",
      "Epoch 27, CIFAR-10 Batch 3:  LOSS ==> 0.044587 ;;; VALIDATION ACCURACY ==> 0.599800\n",
      "Epoch 27, CIFAR-10 Batch 4:  LOSS ==> 0.041469 ;;; VALIDATION ACCURACY ==> 0.596600\n",
      "Epoch 27, CIFAR-10 Batch 5:  LOSS ==> 0.025387 ;;; VALIDATION ACCURACY ==> 0.623200\n",
      "Epoch 28, CIFAR-10 Batch 1:  LOSS ==> 0.038701 ;;; VALIDATION ACCURACY ==> 0.613800\n",
      "Epoch 28, CIFAR-10 Batch 2:  LOSS ==> 0.037218 ;;; VALIDATION ACCURACY ==> 0.583000\n",
      "Epoch 28, CIFAR-10 Batch 3:  LOSS ==> 0.054221 ;;; VALIDATION ACCURACY ==> 0.595600\n",
      "Epoch 28, CIFAR-10 Batch 4:  LOSS ==> 0.029429 ;;; VALIDATION ACCURACY ==> 0.610200\n",
      "Epoch 28, CIFAR-10 Batch 5:  LOSS ==> 0.027379 ;;; VALIDATION ACCURACY ==> 0.621800\n",
      "Epoch 29, CIFAR-10 Batch 1:  LOSS ==> 0.041263 ;;; VALIDATION ACCURACY ==> 0.623800\n",
      "Epoch 29, CIFAR-10 Batch 2:  LOSS ==> 0.054589 ;;; VALIDATION ACCURACY ==> 0.594400\n",
      "Epoch 29, CIFAR-10 Batch 3:  LOSS ==> 0.045015 ;;; VALIDATION ACCURACY ==> 0.597600\n",
      "Epoch 29, CIFAR-10 Batch 4:  LOSS ==> 0.025875 ;;; VALIDATION ACCURACY ==> 0.629800\n",
      "Epoch 29, CIFAR-10 Batch 5:  LOSS ==> 0.046570 ;;; VALIDATION ACCURACY ==> 0.627000\n",
      "Epoch 30, CIFAR-10 Batch 1:  LOSS ==> 0.012296 ;;; VALIDATION ACCURACY ==> 0.636400\n",
      "Epoch 30, CIFAR-10 Batch 2:  LOSS ==> 0.038200 ;;; VALIDATION ACCURACY ==> 0.608200\n",
      "Epoch 30, CIFAR-10 Batch 3:  LOSS ==> 0.024867 ;;; VALIDATION ACCURACY ==> 0.583800\n",
      "Epoch 30, CIFAR-10 Batch 4:  LOSS ==> 0.025181 ;;; VALIDATION ACCURACY ==> 0.615800\n",
      "Epoch 30, CIFAR-10 Batch 5:  LOSS ==> 0.024913 ;;; VALIDATION ACCURACY ==> 0.614600\n",
      "Epoch 31, CIFAR-10 Batch 1:  LOSS ==> 0.015876 ;;; VALIDATION ACCURACY ==> 0.630200\n",
      "Epoch 31, CIFAR-10 Batch 2:  LOSS ==> 0.017104 ;;; VALIDATION ACCURACY ==> 0.608600\n",
      "Epoch 31, CIFAR-10 Batch 3:  LOSS ==> 0.011624 ;;; VALIDATION ACCURACY ==> 0.607600\n",
      "Epoch 31, CIFAR-10 Batch 4:  LOSS ==> 0.018659 ;;; VALIDATION ACCURACY ==> 0.609600\n",
      "Epoch 31, CIFAR-10 Batch 5:  LOSS ==> 0.010835 ;;; VALIDATION ACCURACY ==> 0.621600\n",
      "Epoch 32, CIFAR-10 Batch 1:  LOSS ==> 0.032659 ;;; VALIDATION ACCURACY ==> 0.619600\n",
      "Epoch 32, CIFAR-10 Batch 2:  LOSS ==> 0.023534 ;;; VALIDATION ACCURACY ==> 0.591400\n",
      "Epoch 32, CIFAR-10 Batch 3:  LOSS ==> 0.013543 ;;; VALIDATION ACCURACY ==> 0.612400\n",
      "Epoch 32, CIFAR-10 Batch 4:  LOSS ==> 0.028101 ;;; VALIDATION ACCURACY ==> 0.619800\n",
      "Epoch 32, CIFAR-10 Batch 5:  LOSS ==> 0.025450 ;;; VALIDATION ACCURACY ==> 0.587600\n",
      "Epoch 33, CIFAR-10 Batch 1:  LOSS ==> 0.015103 ;;; VALIDATION ACCURACY ==> 0.623400\n",
      "Epoch 33, CIFAR-10 Batch 2:  LOSS ==> 0.037143 ;;; VALIDATION ACCURACY ==> 0.570200\n",
      "Epoch 33, CIFAR-10 Batch 3:  LOSS ==> 0.016540 ;;; VALIDATION ACCURACY ==> 0.599400\n",
      "Epoch 33, CIFAR-10 Batch 4:  LOSS ==> 0.014916 ;;; VALIDATION ACCURACY ==> 0.626600\n",
      "Epoch 33, CIFAR-10 Batch 5:  LOSS ==> 0.059454 ;;; VALIDATION ACCURACY ==> 0.573200\n",
      "Epoch 34, CIFAR-10 Batch 1:  LOSS ==> 0.019386 ;;; VALIDATION ACCURACY ==> 0.604000\n",
      "Epoch 34, CIFAR-10 Batch 2:  LOSS ==> 0.025774 ;;; VALIDATION ACCURACY ==> 0.591400\n",
      "Epoch 34, CIFAR-10 Batch 3:  LOSS ==> 0.015834 ;;; VALIDATION ACCURACY ==> 0.606800\n",
      "Epoch 34, CIFAR-10 Batch 4:  LOSS ==> 0.013491 ;;; VALIDATION ACCURACY ==> 0.622800\n",
      "Epoch 34, CIFAR-10 Batch 5:  LOSS ==> 0.008911 ;;; VALIDATION ACCURACY ==> 0.627200\n",
      "Epoch 35, CIFAR-10 Batch 1:  LOSS ==> 0.022655 ;;; VALIDATION ACCURACY ==> 0.588800\n",
      "Epoch 35, CIFAR-10 Batch 2:  LOSS ==> 0.015549 ;;; VALIDATION ACCURACY ==> 0.610400\n",
      "Epoch 35, CIFAR-10 Batch 3:  LOSS ==> 0.007263 ;;; VALIDATION ACCURACY ==> 0.614400\n",
      "Epoch 35, CIFAR-10 Batch 4:  LOSS ==> 0.015266 ;;; VALIDATION ACCURACY ==> 0.615000\n",
      "Epoch 35, CIFAR-10 Batch 5:  LOSS ==> 0.008076 ;;; VALIDATION ACCURACY ==> 0.634400\n",
      "Epoch 36, CIFAR-10 Batch 1:  LOSS ==> 0.009067 ;;; VALIDATION ACCURACY ==> 0.599200\n",
      "Epoch 36, CIFAR-10 Batch 2:  LOSS ==> 0.014133 ;;; VALIDATION ACCURACY ==> 0.600000\n",
      "Epoch 36, CIFAR-10 Batch 3:  LOSS ==> 0.013274 ;;; VALIDATION ACCURACY ==> 0.612800\n",
      "Epoch 36, CIFAR-10 Batch 4:  LOSS ==> 0.013368 ;;; VALIDATION ACCURACY ==> 0.603800\n",
      "Epoch 36, CIFAR-10 Batch 5:  LOSS ==> 0.014735 ;;; VALIDATION ACCURACY ==> 0.608000\n",
      "Epoch 37, CIFAR-10 Batch 1:  LOSS ==> 0.005396 ;;; VALIDATION ACCURACY ==> 0.623400\n",
      "Epoch 37, CIFAR-10 Batch 2:  LOSS ==> 0.024033 ;;; VALIDATION ACCURACY ==> 0.607400\n",
      "Epoch 37, CIFAR-10 Batch 3:  LOSS ==> 0.007843 ;;; VALIDATION ACCURACY ==> 0.612200\n",
      "Epoch 37, CIFAR-10 Batch 4:  LOSS ==> 0.018519 ;;; VALIDATION ACCURACY ==> 0.576200\n",
      "Epoch 37, CIFAR-10 Batch 5:  LOSS ==> 0.009815 ;;; VALIDATION ACCURACY ==> 0.603600\n",
      "Epoch 38, CIFAR-10 Batch 1:  LOSS ==> 0.010250 ;;; VALIDATION ACCURACY ==> 0.622600\n",
      "Epoch 38, CIFAR-10 Batch 2:  LOSS ==> 0.007825 ;;; VALIDATION ACCURACY ==> 0.605800\n",
      "Epoch 38, CIFAR-10 Batch 3:  LOSS ==> 0.009081 ;;; VALIDATION ACCURACY ==> 0.610800\n",
      "Epoch 38, CIFAR-10 Batch 4:  LOSS ==> 0.013478 ;;; VALIDATION ACCURACY ==> 0.574200\n",
      "Epoch 38, CIFAR-10 Batch 5:  LOSS ==> 0.008358 ;;; VALIDATION ACCURACY ==> 0.604800\n",
      "Epoch 39, CIFAR-10 Batch 1:  LOSS ==> 0.012817 ;;; VALIDATION ACCURACY ==> 0.616200\n",
      "Epoch 39, CIFAR-10 Batch 2:  LOSS ==> 0.007152 ;;; VALIDATION ACCURACY ==> 0.623800\n",
      "Epoch 39, CIFAR-10 Batch 3:  LOSS ==> 0.008235 ;;; VALIDATION ACCURACY ==> 0.608600\n",
      "Epoch 39, CIFAR-10 Batch 4:  LOSS ==> 0.006549 ;;; VALIDATION ACCURACY ==> 0.576400\n",
      "Epoch 39, CIFAR-10 Batch 5:  LOSS ==> 0.011526 ;;; VALIDATION ACCURACY ==> 0.605200\n",
      "Epoch 40, CIFAR-10 Batch 1:  LOSS ==> 0.005042 ;;; VALIDATION ACCURACY ==> 0.622000\n"
     ]
    },
    {
     "name": "stdout",
     "output_type": "stream",
     "text": [
      "Epoch 40, CIFAR-10 Batch 2:  LOSS ==> 0.003458 ;;; VALIDATION ACCURACY ==> 0.627000\n",
      "Epoch 40, CIFAR-10 Batch 3:  LOSS ==> 0.021294 ;;; VALIDATION ACCURACY ==> 0.594600\n",
      "Epoch 40, CIFAR-10 Batch 4:  LOSS ==> 0.004778 ;;; VALIDATION ACCURACY ==> 0.601600\n",
      "Epoch 40, CIFAR-10 Batch 5:  LOSS ==> 0.009279 ;;; VALIDATION ACCURACY ==> 0.609000\n",
      "Epoch 41, CIFAR-10 Batch 1:  LOSS ==> 0.005428 ;;; VALIDATION ACCURACY ==> 0.605600\n",
      "Epoch 41, CIFAR-10 Batch 2:  LOSS ==> 0.005093 ;;; VALIDATION ACCURACY ==> 0.615400\n",
      "Epoch 41, CIFAR-10 Batch 3:  LOSS ==> 0.010071 ;;; VALIDATION ACCURACY ==> 0.590200\n",
      "Epoch 41, CIFAR-10 Batch 4:  LOSS ==> 0.011562 ;;; VALIDATION ACCURACY ==> 0.581000\n",
      "Epoch 41, CIFAR-10 Batch 5:  LOSS ==> 0.008038 ;;; VALIDATION ACCURACY ==> 0.580800\n",
      "Epoch 42, CIFAR-10 Batch 1:  LOSS ==> 0.010294 ;;; VALIDATION ACCURACY ==> 0.606400\n",
      "Epoch 42, CIFAR-10 Batch 2:  LOSS ==> 0.006498 ;;; VALIDATION ACCURACY ==> 0.613400\n",
      "Epoch 42, CIFAR-10 Batch 3:  LOSS ==> 0.011794 ;;; VALIDATION ACCURACY ==> 0.596800\n",
      "Epoch 42, CIFAR-10 Batch 4:  LOSS ==> 0.002599 ;;; VALIDATION ACCURACY ==> 0.612200\n",
      "Epoch 42, CIFAR-10 Batch 5:  LOSS ==> 0.012179 ;;; VALIDATION ACCURACY ==> 0.570200\n",
      "Epoch 43, CIFAR-10 Batch 1:  LOSS ==> 0.006634 ;;; VALIDATION ACCURACY ==> 0.601400\n",
      "Epoch 43, CIFAR-10 Batch 2:  LOSS ==> 0.009673 ;;; VALIDATION ACCURACY ==> 0.603400\n",
      "Epoch 43, CIFAR-10 Batch 3:  LOSS ==> 0.012296 ;;; VALIDATION ACCURACY ==> 0.613400\n",
      "Epoch 43, CIFAR-10 Batch 4:  LOSS ==> 0.019307 ;;; VALIDATION ACCURACY ==> 0.603400\n",
      "Epoch 43, CIFAR-10 Batch 5:  LOSS ==> 0.008354 ;;; VALIDATION ACCURACY ==> 0.580800\n",
      "Epoch 44, CIFAR-10 Batch 1:  LOSS ==> 0.007749 ;;; VALIDATION ACCURACY ==> 0.609200\n",
      "Epoch 44, CIFAR-10 Batch 2:  LOSS ==> 0.011275 ;;; VALIDATION ACCURACY ==> 0.605000\n",
      "Epoch 44, CIFAR-10 Batch 3:  LOSS ==> 0.017414 ;;; VALIDATION ACCURACY ==> 0.607800\n",
      "Epoch 44, CIFAR-10 Batch 4:  LOSS ==> 0.004596 ;;; VALIDATION ACCURACY ==> 0.608200\n",
      "Epoch 44, CIFAR-10 Batch 5:  LOSS ==> 0.005421 ;;; VALIDATION ACCURACY ==> 0.589200\n",
      "Epoch 45, CIFAR-10 Batch 1:  LOSS ==> 0.010031 ;;; VALIDATION ACCURACY ==> 0.610200\n",
      "Epoch 45, CIFAR-10 Batch 2:  LOSS ==> 0.004723 ;;; VALIDATION ACCURACY ==> 0.611200\n",
      "Epoch 45, CIFAR-10 Batch 3:  LOSS ==> 0.008069 ;;; VALIDATION ACCURACY ==> 0.600000\n",
      "Epoch 45, CIFAR-10 Batch 4:  LOSS ==> 0.009616 ;;; VALIDATION ACCURACY ==> 0.608200\n",
      "Epoch 45, CIFAR-10 Batch 5:  LOSS ==> 0.011353 ;;; VALIDATION ACCURACY ==> 0.587400\n",
      "Epoch 46, CIFAR-10 Batch 1:  LOSS ==> 0.006277 ;;; VALIDATION ACCURACY ==> 0.620600\n",
      "Epoch 46, CIFAR-10 Batch 2:  LOSS ==> 0.008180 ;;; VALIDATION ACCURACY ==> 0.610800\n",
      "Epoch 46, CIFAR-10 Batch 3:  LOSS ==> 0.005323 ;;; VALIDATION ACCURACY ==> 0.610400\n",
      "Epoch 46, CIFAR-10 Batch 4:  LOSS ==> 0.006076 ;;; VALIDATION ACCURACY ==> 0.604800\n",
      "Epoch 46, CIFAR-10 Batch 5:  LOSS ==> 0.015451 ;;; VALIDATION ACCURACY ==> 0.599000\n",
      "Epoch 47, CIFAR-10 Batch 1:  LOSS ==> 0.002930 ;;; VALIDATION ACCURACY ==> 0.621000\n",
      "Epoch 47, CIFAR-10 Batch 2:  LOSS ==> 0.004351 ;;; VALIDATION ACCURACY ==> 0.622800\n",
      "Epoch 47, CIFAR-10 Batch 3:  LOSS ==> 0.007532 ;;; VALIDATION ACCURACY ==> 0.596800\n",
      "Epoch 47, CIFAR-10 Batch 4:  LOSS ==> 0.003841 ;;; VALIDATION ACCURACY ==> 0.596000\n",
      "Epoch 47, CIFAR-10 Batch 5:  LOSS ==> 0.010469 ;;; VALIDATION ACCURACY ==> 0.598600\n",
      "Epoch 48, CIFAR-10 Batch 1:  LOSS ==> 0.005170 ;;; VALIDATION ACCURACY ==> 0.618800\n",
      "Epoch 48, CIFAR-10 Batch 2:  LOSS ==> 0.006249 ;;; VALIDATION ACCURACY ==> 0.619600\n",
      "Epoch 48, CIFAR-10 Batch 3:  LOSS ==> 0.005189 ;;; VALIDATION ACCURACY ==> 0.602600\n",
      "Epoch 48, CIFAR-10 Batch 4:  LOSS ==> 0.013911 ;;; VALIDATION ACCURACY ==> 0.580400\n",
      "Epoch 48, CIFAR-10 Batch 5:  LOSS ==> 0.006568 ;;; VALIDATION ACCURACY ==> 0.607000\n",
      "Epoch 49, CIFAR-10 Batch 1:  LOSS ==> 0.003697 ;;; VALIDATION ACCURACY ==> 0.616400\n",
      "Epoch 49, CIFAR-10 Batch 2:  LOSS ==> 0.005883 ;;; VALIDATION ACCURACY ==> 0.612600\n",
      "Epoch 49, CIFAR-10 Batch 3:  LOSS ==> 0.003489 ;;; VALIDATION ACCURACY ==> 0.606000\n",
      "Epoch 49, CIFAR-10 Batch 4:  LOSS ==> 0.011461 ;;; VALIDATION ACCURACY ==> 0.589000\n",
      "Epoch 49, CIFAR-10 Batch 5:  LOSS ==> 0.008155 ;;; VALIDATION ACCURACY ==> 0.602600\n",
      "Epoch 50, CIFAR-10 Batch 1:  LOSS ==> 0.003535 ;;; VALIDATION ACCURACY ==> 0.612200\n",
      "Epoch 50, CIFAR-10 Batch 2:  LOSS ==> 0.007142 ;;; VALIDATION ACCURACY ==> 0.621200\n",
      "Epoch 50, CIFAR-10 Batch 3:  LOSS ==> 0.003777 ;;; VALIDATION ACCURACY ==> 0.596400\n",
      "Epoch 50, CIFAR-10 Batch 4:  LOSS ==> 0.004426 ;;; VALIDATION ACCURACY ==> 0.590400\n",
      "Epoch 50, CIFAR-10 Batch 5:  LOSS ==> 0.011446 ;;; VALIDATION ACCURACY ==> 0.600000\n"
     ]
    }
   ],
   "source": [
    "\"\"\"\n",
    "DON'T MODIFY ANYTHING IN THIS CELL\n",
    "\"\"\"\n",
    "save_model_path = './image_classification'\n",
    "\n",
    "print('Training...')\n",
    "with tf.Session() as sess:\n",
    "    # Initializing the variables\n",
    "    sess.run(tf.global_variables_initializer())\n",
    "    \n",
    "    # Training cycle\n",
    "    for epoch in range(epochs):\n",
    "        # Loop over all batches\n",
    "        n_batches = 5\n",
    "        for batch_i in range(1, n_batches + 1):\n",
    "            for batch_features, batch_labels in helper.load_preprocess_training_batch(batch_i, batch_size):\n",
    "                train_neural_network(sess, optimizer, keep_probability, batch_features, batch_labels)\n",
    "            print('Epoch {:>2}, CIFAR-10 Batch {}:  '.format(epoch + 1, batch_i), end='')\n",
    "            print_stats(sess, batch_features, batch_labels, cost, accuracy)\n",
    "            \n",
    "    # Save Model\n",
    "    saver = tf.train.Saver()\n",
    "    save_path = saver.save(sess, save_model_path)"
   ]
  },
  {
   "cell_type": "markdown",
   "metadata": {},
   "source": [
    "# Checkpoint\n",
    "The model has been saved to disk.\n",
    "## Test Model\n",
    "Test your model against the test dataset.  This will be your final accuracy. You should have an accuracy greater than 50%. If you don't, keep tweaking the model architecture and parameters."
   ]
  },
  {
   "cell_type": "code",
   "execution_count": 39,
   "metadata": {},
   "outputs": [
    {
     "name": "stdout",
     "output_type": "stream",
     "text": [
      "INFO:tensorflow:Restoring parameters from ./image_classification\n",
      "Testing Accuracy: 0.59072265625\n",
      "\n"
     ]
    },
    {
     "data": {
      "image/png": "[encoded data removed]",
      "text/plain": [
       "<matplotlib.figure.Figure at 0x116c8e4e0>"
      ]
     },
     "metadata": {
      "image/png": {
       "height": 319,
       "width": 355
      }
     },
     "output_type": "display_data"
    }
   ],
   "source": [
    "\"\"\"\n",
    "DON'T MODIFY ANYTHING IN THIS CELL\n",
    "\"\"\"\n",
    "%matplotlib inline\n",
    "%config InlineBackend.figure_format = 'retina'\n",
    "\n",
    "import tensorflow as tf\n",
    "import pickle\n",
    "import helper\n",
    "import random\n",
    "\n",
    "# Set batch size if not already set\n",
    "try:\n",
    "    if batch_size:\n",
    "        pass\n",
    "except NameError:\n",
    "    batch_size = 64\n",
    "\n",
    "save_model_path = './image_classification'\n",
    "n_samples = 4\n",
    "top_n_predictions = 3\n",
    "\n",
    "def test_model():\n",
    "    \"\"\"\n",
    "    Test the saved model against the test dataset\n",
    "    \"\"\"\n",
    "\n",
    "    test_features, test_labels = pickle.load(open('preprocess_test.p', mode='rb'))\n",
    "    loaded_graph = tf.Graph()\n",
    "\n",
    "    with tf.Session(graph=loaded_graph) as sess:\n",
    "        # Load model\n",
    "        loader = tf.train.import_meta_graph(save_model_path + '.meta')\n",
    "        loader.restore(sess, save_model_path)\n",
    "\n",
    "        # Get Tensors from loaded model\n",
    "        loaded_x = loaded_graph.get_tensor_by_name('x:0')\n",
    "        loaded_y = loaded_graph.get_tensor_by_name('y:0')\n",
    "        loaded_keep_prob = loaded_graph.get_tensor_by_name('keep_prob:0')\n",
    "        loaded_logits = loaded_graph.get_tensor_by_name('logits:0')\n",
    "        loaded_acc = loaded_graph.get_tensor_by_name('accuracy:0')\n",
    "        \n",
    "        # Get accuracy in batches for memory limitations\n",
    "        test_batch_acc_total = 0\n",
    "        test_batch_count = 0\n",
    "        \n",
    "        for test_feature_batch, test_label_batch in helper.batch_features_labels(test_features, test_labels, batch_size):\n",
    "            test_batch_acc_total += sess.run(\n",
    "                loaded_acc,\n",
    "                feed_dict={loaded_x: test_feature_batch, loaded_y: test_label_batch, loaded_keep_prob: 1.0})\n",
    "            test_batch_count += 1\n",
    "\n",
    "        print('Testing Accuracy: {}\\n'.format(test_batch_acc_total/test_batch_count))\n",
    "\n",
    "        # Print Random Samples\n",
    "        random_test_features, random_test_labels = tuple(zip(*random.sample(list(zip(test_features, test_labels)), n_samples)))\n",
    "        random_test_predictions = sess.run(\n",
    "            tf.nn.top_k(tf.nn.softmax(loaded_logits), top_n_predictions),\n",
    "            feed_dict={loaded_x: random_test_features, loaded_y: random_test_labels, loaded_keep_prob: 1.0})\n",
    "        helper.display_image_predictions(random_test_features, random_test_labels, random_test_predictions)\n",
    "\n",
    "\n",
    "test_model()"
   ]
  },
  {
   "cell_type": "markdown",
   "metadata": {},
   "source": [
    "## Why 50-80% Accuracy?\n",
    "You might be wondering why you can't get an accuracy any higher. First things first, 50% isn't bad for a simple CNN.  Pure guessing would get you 10% accuracy. However, you might notice people are getting scores [well above 80%](http://rodrigob.github.io/are_we_there_yet/build/classification_datasets_results.html#43494641522d3130).  That's because we haven't taught you all there is to know about neural networks. We still need to cover a few more techniques.\n",
    "## Submitting This Project\n",
    "When submitting this project, make sure to run all the cells before saving the notebook.  Save the notebook file as \"dlnd_image_classification.ipynb\" and save it as a HTML file under \"File\" -> \"Download as\".  Include the \"helper.py\" and \"problem_unittests.py\" files in your submission."
   ]
  }
 ],
 "metadata": {
  "kernelspec": {
   "display_name": "Python 3",
   "language": "python",
   "name": "python3"
  },
  "language_info": {
   "codemirror_mode": {
    "name": "ipython",
    "version": 3
   },
   "file_extension": ".py",
   "mimetype": "text/x-python",
   "name": "python",
   "nbconvert_exporter": "python",
   "pygments_lexer": "ipython3",
   "version": "3.6.1"
  }
 },
 "nbformat": 4,
 "nbformat_minor": 1
}
